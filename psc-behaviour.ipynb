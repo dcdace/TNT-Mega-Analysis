{
 "cells": [
  {
   "cell_type": "markdown",
   "metadata": {},
   "source": [
    "# Data and functions"
   ]
  },
  {
   "cell_type": "code",
   "execution_count": 1,
   "metadata": {},
   "outputs": [],
   "source": [
    "shhh <- suppressPackageStartupMessages # It's a library, so shhh!\n",
    "\n",
    "shhh(suppressWarnings(library(ggplot2)))   # for plotting results\n",
    "shhh(suppressWarnings(library(gridExtra))) # for adding plots together\n",
    "shhh(suppressWarnings(library(grid)))      # for plot grid title formatting\n",
    "shhh(suppressWarnings(library(gtools)))    # for converting pvalues to stars\n",
    "shhh(suppressWarnings(library(Hmisc)))\n",
    "shhh(suppressWarnings(library(plyr)))      # for ddply (aggregating results)\n",
    "shhh(suppressWarnings(library(tidyr)))     # for creating long table (function gather)\n",
    "shhh(suppressWarnings(library(multcomp)))  # for multiple comparison tests\n",
    "shhh(suppressWarnings(library(varhandle))) # for unfactoring variables\n",
    "shhh(suppressWarnings(library(Rmisc)))     # for getting summary data frame\n",
    "\n",
    "shhh(suppressWarnings(library(tidyverse)))\n",
    "shhh(suppressWarnings(library(ggpubr)))\n",
    "shhh(suppressWarnings(library(rstatix)))"
   ]
  },
  {
   "cell_type": "code",
   "execution_count": 3,
   "metadata": {},
   "outputs": [],
   "source": [
    "# Load percent-signal-change data\n",
    "data_psc <- read.csv('data/psc.csv')\n",
    "data_psc$roi = as.factor(data_psc$roi)\n",
    "data_psc$subid = as.factor(data_psc$subid)\n",
    "# Load behavioural data\n",
    "data_beh <- read.csv('data/behavioural.csv')\n",
    "data_beh$subid = as.factor(data_beh$subid)\n",
    "\n",
    "# SIF data only from the behavioural\n",
    "data_sif <- subset(data_beh[c(1:5)])\n",
    "data_sif  <- data_sif [complete.cases(data_sif ),]\n",
    "\n",
    "# Intrusion data only from the behavioural\n",
    "data_intr <- subset(data_beh[c(1:3,7:ncol(data_beh))])\n",
    "data_intr  <- data_intr [complete.cases(data_intr ),]\n",
    "\n",
    "# Merge SIF and Intrusion data\n",
    "data_sif.intr <- merge(data_sif, data_intr[c(3:ncol(data_intr))], by = 'subid')\n",
    "\n",
    "# Merge SIF and PSC data\n",
    "data_sif.psc <- merge(data_sif, data_psc[c(3:ncol(data_psc))], by = 'subid')\n",
    "\n",
    "# Merge Intrusion and PSC data\n",
    "data_intr.psc <- merge(data_intr, data_psc[c(3:ncol(data_psc))], by = 'subid')"
   ]
  },
  {
   "cell_type": "code",
   "execution_count": 15,
   "metadata": {},
   "outputs": [],
   "source": [
    "# FUNCTION FOR PLOTTING CORRELATIONS\n",
    "# ------------------------------------\n",
    "plotCorrelation <-\n",
    "  function(dataset,\n",
    "           x,\n",
    "           y,\n",
    "           xLabel,\n",
    "           yLabel) {\n",
    "    corr.grey.roi  <- rcorr(x, y)\n",
    "    resTXT  <- sprintf(\"r = %.3f, p = %.10f\",\n",
    "                       corr.grey.roi$r[2],\n",
    "                       corr.grey.roi$P[2])\n",
    "    \n",
    "    ggplot(dataset, aes(x, y)) +\n",
    "      geom_smooth(\n",
    "        method = lm,\n",
    "        level = 0.95,\n",
    "        color = \"black\",\n",
    "        fill = \"grey\",\n",
    "        size = 0.3\n",
    "      ) +\n",
    "      geom_point(\n",
    "        colour = \"black\",\n",
    "        alpha = .8,\n",
    "        fill = \"orange\",\n",
    "        size = 3,\n",
    "        stroke = 0.2,\n",
    "        shape = 21\n",
    "      ) +\n",
    "      labs(x = xLabel, y = yLabel) + ggtitle(resTXT) +\n",
    "      theme_minimal() +\n",
    "      theme(\n",
    "        text = element_text(size = 14),\n",
    "        plot.title = element_text(\n",
    "          hjust = 0.5,\n",
    "          size = 14,\n",
    "          face = \"bold\"\n",
    "        ),\n",
    "        plot.background = element_rect(\n",
    "          colour = \"lightgrey\",\n",
    "          size = 0.4,\n",
    "          linetype = \"dotted\"\n",
    "        ),\n",
    "        panel.grid.major = element_blank(),\n",
    "        panel.grid.minor = element_blank()\n",
    "      )\n",
    "  }"
   ]
  },
  {
   "cell_type": "code",
   "execution_count": 59,
   "metadata": {},
   "outputs": [
    {
     "data": {
      "text/html": [
       "<table class=\"dataframe\">\n",
       "<caption>A data.frame: 6 × 11</caption>\n",
       "<thead>\n",
       "\t<tr><th></th><th scope=col>subid</th><th scope=col>id</th><th scope=col>stid</th><th scope=col>model</th><th scope=col>rID</th><th scope=col>roi</th><th scope=col>T</th><th scope=col>NT</th><th scope=col>coverage</th><th scope=col>SIF</th><th scope=col>zSIF</th></tr>\n",
       "\t<tr><th></th><th scope=col>&lt;fct&gt;</th><th scope=col>&lt;int&gt;</th><th scope=col>&lt;chr&gt;</th><th scope=col>&lt;chr&gt;</th><th scope=col>&lt;int&gt;</th><th scope=col>&lt;fct&gt;</th><th scope=col>&lt;dbl&gt;</th><th scope=col>&lt;dbl&gt;</th><th scope=col>&lt;dbl&gt;</th><th scope=col>&lt;dbl&gt;</th><th scope=col>&lt;dbl&gt;</th></tr>\n",
       "</thead>\n",
       "<tbody>\n",
       "\t<tr><th scope=row>9</th><td>01_Levy1s_604</td><td>1</td><td>01_Levy1</td><td>model_00</td><td>1</td><td>ch12</td><td> 0.007320232</td><td> 0.02350285</td><td> 99.60630</td><td> 9.090909</td><td> 0.3940354</td></tr>\n",
       "\t<tr><th scope=row>12</th><td>01_Levy1s_635</td><td>1</td><td>01_Levy1</td><td>model_00</td><td>1</td><td>ch12</td><td>-0.038192853</td><td>-0.02542412</td><td>100.00000</td><td> 2.651515</td><td>-0.5392063</td></tr>\n",
       "\t<tr><th scope=row>26</th><td>01_Levy1s_639</td><td>1</td><td>01_Levy1</td><td>model_00</td><td>1</td><td>ch12</td><td>-0.019886187</td><td>-0.03645123</td><td> 96.46643</td><td>12.500000</td><td> 0.8881045</td></tr>\n",
       "\t<tr><th scope=row>38</th><td>01_Levy1s_679</td><td>1</td><td>01_Levy1</td><td>model_00</td><td>1</td><td>ch12</td><td>-0.041203754</td><td>-0.15598856</td><td> 93.69369</td><td>15.151515</td><td> 1.2723805</td></tr>\n",
       "\t<tr><th scope=row>48</th><td>01_Levy1s_680</td><td>1</td><td>01_Levy1</td><td>model_00</td><td>1</td><td>ch12</td><td>-0.037150442</td><td>-0.03642902</td><td>100.00000</td><td> 9.090909</td><td> 0.3940354</td></tr>\n",
       "\t<tr><th scope=row>54</th><td>01_Levy1s_766</td><td>1</td><td>01_Levy1</td><td>model_00</td><td>1</td><td>ch12</td><td>-0.062691836</td><td>-0.02872113</td><td> 83.63171</td><td>12.500000</td><td> 0.8881045</td></tr>\n",
       "</tbody>\n",
       "</table>\n"
      ],
      "text/latex": [
       "A data.frame: 6 × 11\n",
       "\\begin{tabular}{r|lllllllllll}\n",
       "  & subid & id & stid & model & rID & roi & T & NT & coverage & SIF & zSIF\\\\\n",
       "  & <fct> & <int> & <chr> & <chr> & <int> & <fct> & <dbl> & <dbl> & <dbl> & <dbl> & <dbl>\\\\\n",
       "\\hline\n",
       "\t9 & 01\\_Levy1s\\_604 & 1 & 01\\_Levy1 & model\\_00 & 1 & ch12 &  0.007320232 &  0.02350285 &  99.60630 &  9.090909 &  0.3940354\\\\\n",
       "\t12 & 01\\_Levy1s\\_635 & 1 & 01\\_Levy1 & model\\_00 & 1 & ch12 & -0.038192853 & -0.02542412 & 100.00000 &  2.651515 & -0.5392063\\\\\n",
       "\t26 & 01\\_Levy1s\\_639 & 1 & 01\\_Levy1 & model\\_00 & 1 & ch12 & -0.019886187 & -0.03645123 &  96.46643 & 12.500000 &  0.8881045\\\\\n",
       "\t38 & 01\\_Levy1s\\_679 & 1 & 01\\_Levy1 & model\\_00 & 1 & ch12 & -0.041203754 & -0.15598856 &  93.69369 & 15.151515 &  1.2723805\\\\\n",
       "\t48 & 01\\_Levy1s\\_680 & 1 & 01\\_Levy1 & model\\_00 & 1 & ch12 & -0.037150442 & -0.03642902 & 100.00000 &  9.090909 &  0.3940354\\\\\n",
       "\t54 & 01\\_Levy1s\\_766 & 1 & 01\\_Levy1 & model\\_00 & 1 & ch12 & -0.062691836 & -0.02872113 &  83.63171 & 12.500000 &  0.8881045\\\\\n",
       "\\end{tabular}\n"
      ],
      "text/markdown": [
       "\n",
       "A data.frame: 6 × 11\n",
       "\n",
       "| <!--/--> | subid &lt;fct&gt; | id &lt;int&gt; | stid &lt;chr&gt; | model &lt;chr&gt; | rID &lt;int&gt; | roi &lt;fct&gt; | T &lt;dbl&gt; | NT &lt;dbl&gt; | coverage &lt;dbl&gt; | SIF &lt;dbl&gt; | zSIF &lt;dbl&gt; |\n",
       "|---|---|---|---|---|---|---|---|---|---|---|---|\n",
       "| 9 | 01_Levy1s_604 | 1 | 01_Levy1 | model_00 | 1 | ch12 |  0.007320232 |  0.02350285 |  99.60630 |  9.090909 |  0.3940354 |\n",
       "| 12 | 01_Levy1s_635 | 1 | 01_Levy1 | model_00 | 1 | ch12 | -0.038192853 | -0.02542412 | 100.00000 |  2.651515 | -0.5392063 |\n",
       "| 26 | 01_Levy1s_639 | 1 | 01_Levy1 | model_00 | 1 | ch12 | -0.019886187 | -0.03645123 |  96.46643 | 12.500000 |  0.8881045 |\n",
       "| 38 | 01_Levy1s_679 | 1 | 01_Levy1 | model_00 | 1 | ch12 | -0.041203754 | -0.15598856 |  93.69369 | 15.151515 |  1.2723805 |\n",
       "| 48 | 01_Levy1s_680 | 1 | 01_Levy1 | model_00 | 1 | ch12 | -0.037150442 | -0.03642902 | 100.00000 |  9.090909 |  0.3940354 |\n",
       "| 54 | 01_Levy1s_766 | 1 | 01_Levy1 | model_00 | 1 | ch12 | -0.062691836 | -0.02872113 |  83.63171 | 12.500000 |  0.8881045 |\n",
       "\n"
      ],
      "text/plain": [
       "   subid         id stid     model    rID roi  T            NT         \n",
       "9  01_Levy1s_604 1  01_Levy1 model_00 1   ch12  0.007320232  0.02350285\n",
       "12 01_Levy1s_635 1  01_Levy1 model_00 1   ch12 -0.038192853 -0.02542412\n",
       "26 01_Levy1s_639 1  01_Levy1 model_00 1   ch12 -0.019886187 -0.03645123\n",
       "38 01_Levy1s_679 1  01_Levy1 model_00 1   ch12 -0.041203754 -0.15598856\n",
       "48 01_Levy1s_680 1  01_Levy1 model_00 1   ch12 -0.037150442 -0.03642902\n",
       "54 01_Levy1s_766 1  01_Levy1 model_00 1   ch12 -0.062691836 -0.02872113\n",
       "   coverage  SIF       zSIF      \n",
       "9   99.60630  9.090909  0.3940354\n",
       "12 100.00000  2.651515 -0.5392063\n",
       "26  96.46643 12.500000  0.8881045\n",
       "38  93.69369 15.151515  1.2723805\n",
       "48 100.00000  9.090909  0.3940354\n",
       "54  83.63171 12.500000  0.8881045"
      ]
     },
     "metadata": {},
     "output_type": "display_data"
    }
   ],
   "source": [
    "\n",
    "\n",
    "data_psc.sif.ms <- subset(data_psc.sif, data_psc.sif$roi == 'ch12')\n",
    "head(data_psc.sif.ms)"
   ]
  },
  {
   "cell_type": "code",
   "execution_count": 66,
   "metadata": {},
   "outputs": [
    {
     "name": "stderr",
     "output_type": "stream",
     "text": [
      "`geom_smooth()` using formula 'y ~ x'\n",
      "\n"
     ]
    },
    {
     "data": {
      "image/png": "[encoded data removed]",
      "text/plain": [
       "plot without title"
      ]
     },
     "metadata": {
      "image/png": {
       "height": 420,
       "width": 420
      }
     },
     "output_type": "display_data"
    }
   ],
   "source": [
    "plotCorrelation(data_psc.sif.ms,\n",
    "           data_psc.sif.ms$NT,\n",
    "           data_psc.sif.ms$zSIF,\n",
    "           \"NT\",\n",
    "           \"SIF\")"
   ]
  }
 ],
 "metadata": {
  "kernelspec": {
   "display_name": "R",
   "language": "R",
   "name": "ir"
  },
  "language_info": {
   "codemirror_mode": "r",
   "file_extension": ".r",
   "mimetype": "text/x-r-source",
   "name": "R",
   "pygments_lexer": "r",
   "version": "4.0.3"
  },
  "orig_nbformat": 4
 },
 "nbformat": 4,
 "nbformat_minor": 2
}
